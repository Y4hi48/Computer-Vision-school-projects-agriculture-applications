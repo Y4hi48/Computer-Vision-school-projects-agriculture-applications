{
 "cells": [
  {
   "cell_type": "code",
   "execution_count": null,
   "metadata": {
    "_cell_guid": "b1076dfc-b9ad-4769-8c92-a6c4dae69d19",
    "_uuid": "8f2839f25d086af736a60e9eeb907d3b93b6e0e5",
    "trusted": true
   },
   "outputs": [],
   "source": [
    "import numpy as np\n",
    "import pandas as pd\n",
    "import matplotlib.pyplot as pyplot\n",
    "import tensorflow as tf\n",
    "\n",
    "import os\n",
    "\n",
    "for dirname, _, filenames in os.walk('/kaggle/input'):\n",
    "    for filename in filenames:\n",
    "        file_path = os.path.join(dirname, filename)\n",
    "        print(file_path)\n",
    "        if file_path == \"/kaggle/input/thermal-images-diseased-healthy-leaves-paddy/thermal images UL/Read Me - Oryza sativa - TImages.docx\":\n",
    "            continue\n",
    "        #print(file_path.split('/')[5], file_path.split('/')[6])\n",
    "        #categories.add(file_path.split('/')[5])\n",
    "        #print(os.path.join(dirname, filename).split('/')[5])\n"
   ]
  },
  {
   "cell_type": "code",
   "execution_count": 2,
   "metadata": {
    "execution": {
     "iopub.execute_input": "2025-01-04T19:53:36.105168Z",
     "iopub.status.busy": "2025-01-04T19:53:36.104861Z",
     "iopub.status.idle": "2025-01-04T19:53:36.330047Z",
     "shell.execute_reply": "2025-01-04T19:53:36.329050Z",
     "shell.execute_reply.started": "2025-01-04T19:53:36.105136Z"
    },
    "trusted": true
   },
   "outputs": [
    {
     "data": {
      "text/plain": [
       "(240, 320, 3)"
      ]
     },
     "execution_count": 2,
     "metadata": {},
     "output_type": "execute_result"
    }
   ],
   "source": [
    "import cv2\n",
    "\n",
    "cv_img = cv2.imread('/kaggle/input/thermal-images-diseased-healthy-leaves-paddy/thermal images UL/leaf spot/thermalimage11c.jpg')\n",
    "cv_img.shape"
   ]
  },
  {
   "cell_type": "code",
   "execution_count": 3,
   "metadata": {
    "execution": {
     "iopub.execute_input": "2025-01-04T19:53:36.331485Z",
     "iopub.status.busy": "2025-01-04T19:53:36.331227Z",
     "iopub.status.idle": "2025-01-04T19:53:42.735213Z",
     "shell.execute_reply": "2025-01-04T19:53:42.734203Z",
     "shell.execute_reply.started": "2025-01-04T19:53:36.331455Z"
    },
    "trusted": true
   },
   "outputs": [],
   "source": [
    "import os\n",
    "for dirname, _, filenames in os.walk('/kaggle/input/thermal-images-diseased-healthy-leaves-paddy'):\n",
    "    for filename in filenames:\n",
    "        file_path = os.path.join(dirname, filename)\n",
    "        #print(file_path)\n",
    "        if file_path == \"/kaggle/input/thermal-images-diseased-healthy-leaves-paddy/thermal images UL/Read Me - Oryza sativa - TImages.docx\":\n",
    "            continue\n",
    "        img = cv2.imread(file_path)\n",
    "        #img = cv2.cvtColor(img, cv2.COLOR_BGR2GRAY)\n",
    "        #img[218:, :58] = 0\n",
    "        #img[:30,275:] = 0\n",
    "        #img[210:,275:] = 0\n",
    "        #img[:,300:] = 0\n",
    "        if not os.path.isdir(file_path.split('/')[-2]):\n",
    "            os.mkdir(file_path.split('/')[-2])\n",
    "        cv2.imwrite(\"/\".join(file_path.split('/')[-2:]), img)"
   ]
  },
  {
   "cell_type": "code",
   "execution_count": 4,
   "metadata": {
    "execution": {
     "iopub.execute_input": "2025-01-04T19:53:42.736517Z",
     "iopub.status.busy": "2025-01-04T19:53:42.736307Z",
     "iopub.status.idle": "2025-01-04T19:53:45.128695Z",
     "shell.execute_reply": "2025-01-04T19:53:45.127688Z",
     "shell.execute_reply.started": "2025-01-04T19:53:42.736492Z"
    },
    "trusted": true
   },
   "outputs": [
    {
     "name": "stdout",
     "output_type": "stream",
     "text": [
      "/kaggle/working\n",
      " BLB   Blast   healthy\t hispa\t'leaf folder'  'leaf spot'\n"
     ]
    }
   ],
   "source": [
    "!pwd\n",
    "!ls"
   ]
  },
  {
   "cell_type": "code",
   "execution_count": 5,
   "metadata": {
    "execution": {
     "iopub.execute_input": "2025-01-04T19:53:45.130560Z",
     "iopub.status.busy": "2025-01-04T19:53:45.130294Z",
     "iopub.status.idle": "2025-01-04T19:53:46.583443Z",
     "shell.execute_reply": "2025-01-04T19:53:46.582454Z",
     "shell.execute_reply.started": "2025-01-04T19:53:45.130525Z"
    },
    "trusted": true
   },
   "outputs": [
    {
     "name": "stdout",
     "output_type": "stream",
     "text": [
      "Found 636 files belonging to 6 classes.\n",
      "Using 509 files for training.\n"
     ]
    },
    {
     "name": "stderr",
     "output_type": "stream",
     "text": [
      "\n",
      "User settings:\n",
      "\n",
      "   KMP_AFFINITY=granularity=fine,verbose,compact,1,0\n",
      "   KMP_BLOCKTIME=0\n",
      "   KMP_SETTINGS=1\n",
      "   KMP_WARNINGS=0\n",
      "\n",
      "Effective settings:\n",
      "\n",
      "   KMP_ABORT_DELAY=0\n",
      "   KMP_ADAPTIVE_LOCK_PROPS='1,1024'\n",
      "   KMP_ALIGN_ALLOC=64\n",
      "   KMP_ALL_THREADPRIVATE=128\n",
      "   KMP_ATOMIC_MODE=2\n",
      "   KMP_BLOCKTIME=0\n",
      "   KMP_CPUINFO_FILE: value is not defined\n",
      "   KMP_DETERMINISTIC_REDUCTION=false\n",
      "   KMP_DEVICE_THREAD_LIMIT=2147483647\n",
      "   KMP_DISP_NUM_BUFFERS=7\n",
      "   KMP_DUPLICATE_LIB_OK=false\n",
      "   KMP_ENABLE_TASK_THROTTLING=true\n",
      "   KMP_FORCE_REDUCTION: value is not defined\n",
      "   KMP_FOREIGN_THREADS_THREADPRIVATE=true\n",
      "   KMP_FORKJOIN_BARRIER='2,2'\n",
      "   KMP_FORKJOIN_BARRIER_PATTERN='hyper,hyper'\n",
      "   KMP_GTID_MODE=3\n",
      "   KMP_HANDLE_SIGNALS=false\n",
      "   KMP_HOT_TEAMS_MAX_LEVEL=1\n",
      "   KMP_HOT_TEAMS_MODE=0\n",
      "   KMP_INIT_AT_FORK=true\n",
      "   KMP_LIBRARY=throughput\n",
      "   KMP_LOCK_KIND=queuing\n",
      "   KMP_MALLOC_POOL_INCR=1M\n",
      "   KMP_NUM_LOCKS_IN_BLOCK=1\n",
      "   KMP_PLAIN_BARRIER='2,2'\n",
      "   KMP_PLAIN_BARRIER_PATTERN='hyper,hyper'\n",
      "   KMP_REDUCTION_BARRIER='1,1'\n",
      "   KMP_REDUCTION_BARRIER_PATTERN='hyper,hyper'\n",
      "   KMP_SCHEDULE='static,balanced;guided,iterative'\n",
      "   KMP_SETTINGS=true\n",
      "   KMP_SPIN_BACKOFF_PARAMS='4096,100'\n",
      "   KMP_STACKOFFSET=64\n",
      "   KMP_STACKPAD=0\n",
      "   KMP_STACKSIZE=8M\n",
      "   KMP_STORAGE_MAP=false\n",
      "   KMP_TASKING=2\n",
      "   KMP_TASKLOOP_MIN_TASKS=0\n",
      "   KMP_TASK_STEALING_CONSTRAINT=1\n",
      "   KMP_TEAMS_THREAD_LIMIT=4\n",
      "   KMP_TOPOLOGY_METHOD=all\n",
      "   KMP_USE_YIELD=1\n",
      "   KMP_VERSION=false\n",
      "   KMP_WARNINGS=false\n",
      "   OMP_AFFINITY_FORMAT='OMP: pid %P tid %i thread %n bound to OS proc set {%A}'\n",
      "   OMP_ALLOCATOR=omp_default_mem_alloc\n",
      "   OMP_CANCELLATION=false\n",
      "   OMP_DEFAULT_DEVICE=0\n",
      "   OMP_DISPLAY_AFFINITY=false\n",
      "   OMP_DISPLAY_ENV=false\n",
      "   OMP_DYNAMIC=false\n",
      "   OMP_MAX_ACTIVE_LEVELS=1\n",
      "   OMP_MAX_TASK_PRIORITY=0\n",
      "   OMP_NESTED: deprecated; max-active-levels-var=1\n",
      "   OMP_NUM_THREADS: value is not defined\n",
      "   OMP_PLACES: value is not defined\n",
      "   OMP_PROC_BIND='intel'\n",
      "   OMP_SCHEDULE='static'\n",
      "   OMP_STACKSIZE=8M\n",
      "   OMP_TARGET_OFFLOAD=DEFAULT\n",
      "   OMP_THREAD_LIMIT=2147483647\n",
      "   OMP_WAIT_POLICY=PASSIVE\n",
      "   KMP_AFFINITY='verbose,warnings,respect,granularity=fine,compact,1,0'\n",
      "\n"
     ]
    },
    {
     "name": "stdout",
     "output_type": "stream",
     "text": [
      "Found 636 files belonging to 6 classes.\n",
      "Using 127 files for validation.\n"
     ]
    }
   ],
   "source": [
    "ds_train = tf.keras.utils.image_dataset_from_directory(\".\", seed=42, label_mode='categorical',\n",
    "                                                       color_mode='rgb', batch_size=32, image_size=(224,224),\n",
    "                                                       validation_split=0.2, subset=\"training\")\n",
    "ds_test = tf.keras.utils.image_dataset_from_directory(\".\", seed=42, label_mode='categorical',\n",
    "                                                      color_mode='rgb', batch_size=32, image_size=(224,224),\n",
    "                                                      validation_split=0.2, subset=\"validation\")"
   ]
  },
  {
   "cell_type": "code",
   "execution_count": 6,
   "metadata": {
    "execution": {
     "iopub.execute_input": "2025-01-04T19:53:46.585596Z",
     "iopub.status.busy": "2025-01-04T19:53:46.584802Z",
     "iopub.status.idle": "2025-01-04T19:53:47.559971Z",
     "shell.execute_reply": "2025-01-04T19:53:47.559034Z",
     "shell.execute_reply.started": "2025-01-04T19:53:46.585549Z"
    },
    "trusted": true
   },
   "outputs": [
    {
     "data": {
      "text/plain": [
       "<matplotlib.image.AxesImage at 0x7c2ff65e5c50>"
      ]
     },
     "execution_count": 6,
     "metadata": {},
     "output_type": "execute_result"
    },
    {
     "data": {
      "image/png": "[encoded data removed]",
      "text/plain": [
       "<Figure size 432x288 with 1 Axes>"
      ]
     },
     "metadata": {
      "needs_background": "light"
     },
     "output_type": "display_data"
    }
   ],
   "source": [
    "pyplot.imshow(list(ds_train.as_numpy_iterator())[0][0][0]/ 255)"
   ]
  },
  {
   "cell_type": "code",
   "execution_count": 7,
   "metadata": {
    "execution": {
     "iopub.execute_input": "2025-01-04T19:53:47.562990Z",
     "iopub.status.busy": "2025-01-04T19:53:47.562701Z",
     "iopub.status.idle": "2025-01-04T19:53:47.569890Z",
     "shell.execute_reply": "2025-01-04T19:53:47.569064Z",
     "shell.execute_reply.started": "2025-01-04T19:53:47.562952Z"
    },
    "trusted": true
   },
   "outputs": [
    {
     "data": {
      "text/plain": [
       "(16, 4)"
      ]
     },
     "execution_count": 7,
     "metadata": {},
     "output_type": "execute_result"
    }
   ],
   "source": [
    "len(ds_train), len(ds_test)"
   ]
  },
  {
   "cell_type": "code",
   "execution_count": 8,
   "metadata": {
    "execution": {
     "iopub.execute_input": "2025-01-04T19:53:47.571702Z",
     "iopub.status.busy": "2025-01-04T19:53:47.571298Z",
     "iopub.status.idle": "2025-01-04T19:53:50.805796Z",
     "shell.execute_reply": "2025-01-04T19:53:50.804937Z",
     "shell.execute_reply.started": "2025-01-04T19:53:47.571609Z"
    },
    "trusted": true
   },
   "outputs": [],
   "source": [
    "base_model = tf.keras.applications.resnet50.ResNet50(weights='../input/resnet50/resnet50_weights_tf_dim_ordering_tf_kernels_notop.h5',\n",
    "                                                     input_shape=(224, 224, 3), pooling='max', include_top = False)"
   ]
  },
  {
   "cell_type": "code",
   "execution_count": 9,
   "metadata": {
    "execution": {
     "iopub.execute_input": "2025-01-04T19:53:50.807342Z",
     "iopub.status.busy": "2025-01-04T19:53:50.807094Z",
     "iopub.status.idle": "2025-01-04T19:53:51.262428Z",
     "shell.execute_reply": "2025-01-04T19:53:51.261064Z",
     "shell.execute_reply.started": "2025-01-04T19:53:50.807310Z"
    },
    "trusted": true
   },
   "outputs": [],
   "source": [
    "inputs = tf.keras.Input(shape=(224, 224, 3,))\n",
    "x = base_model(inputs)\n",
    "x = tf.keras.layers.Flatten()(x)\n",
    "x = tf.keras.layers.Dense(units=200, activation=\"relu\")(x)\n",
    "x = tf.keras.layers.Dropout(0.5)(x)\n",
    "output = tf.keras.layers.Dense(units=6, activation=\"softmax\")(x)\n",
    "\n",
    "model = tf.keras.Model(inputs=[inputs], outputs=[output])"
   ]
  },
  {
   "cell_type": "code",
   "execution_count": 10,
   "metadata": {
    "execution": {
     "iopub.execute_input": "2025-01-04T19:53:51.264505Z",
     "iopub.status.busy": "2025-01-04T19:53:51.264266Z",
     "iopub.status.idle": "2025-01-04T19:53:51.270295Z",
     "shell.execute_reply": "2025-01-04T19:53:51.269413Z",
     "shell.execute_reply.started": "2025-01-04T19:53:51.264474Z"
    },
    "trusted": true
   },
   "outputs": [
    {
     "data": {
      "text/plain": [
       "[<keras.engine.input_layer.InputLayer at 0x7c2fde672fd0>,\n",
       " <keras.engine.functional.Functional at 0x7c2fde69d6d0>,\n",
       " <keras.layers.core.Flatten at 0x7c2fde69df50>,\n",
       " <keras.layers.core.Dense at 0x7c2fde672f90>,\n",
       " <keras.layers.core.Dropout at 0x7c2fde4f0f10>,\n",
       " <keras.layers.core.Dense at 0x7c2fde480dd0>]"
      ]
     },
     "execution_count": 10,
     "metadata": {},
     "output_type": "execute_result"
    }
   ],
   "source": [
    "model.layers"
   ]
  },
  {
   "cell_type": "code",
   "execution_count": 11,
   "metadata": {
    "execution": {
     "iopub.execute_input": "2025-01-04T19:53:51.272005Z",
     "iopub.status.busy": "2025-01-04T19:53:51.271695Z",
     "iopub.status.idle": "2025-01-04T19:53:51.289364Z",
     "shell.execute_reply": "2025-01-04T19:53:51.288309Z",
     "shell.execute_reply.started": "2025-01-04T19:53:51.271962Z"
    },
    "trusted": true
   },
   "outputs": [],
   "source": [
    "model.layers[1].trainable = False"
   ]
  },
  {
   "cell_type": "code",
   "execution_count": 12,
   "metadata": {
    "execution": {
     "iopub.execute_input": "2025-01-04T19:53:51.291456Z",
     "iopub.status.busy": "2025-01-04T19:53:51.290647Z",
     "iopub.status.idle": "2025-01-04T19:53:51.310948Z",
     "shell.execute_reply": "2025-01-04T19:53:51.310012Z",
     "shell.execute_reply.started": "2025-01-04T19:53:51.291421Z"
    },
    "trusted": true
   },
   "outputs": [],
   "source": [
    "model.compile(optimizer=\"Adam\", loss=\"categorical_crossentropy\", metrics=[\"acc\"])"
   ]
  },
  {
   "cell_type": "code",
   "execution_count": 13,
   "metadata": {
    "execution": {
     "iopub.execute_input": "2025-01-04T19:53:51.312698Z",
     "iopub.status.busy": "2025-01-04T19:53:51.312379Z",
     "iopub.status.idle": "2025-01-04T19:53:51.334696Z",
     "shell.execute_reply": "2025-01-04T19:53:51.333807Z",
     "shell.execute_reply.started": "2025-01-04T19:53:51.312656Z"
    },
    "trusted": true
   },
   "outputs": [
    {
     "name": "stdout",
     "output_type": "stream",
     "text": [
      "Model: \"model\"\n",
      "_________________________________________________________________\n",
      "Layer (type)                 Output Shape              Param #   \n",
      "=================================================================\n",
      "input_2 (InputLayer)         [(None, 224, 224, 3)]     0         \n",
      "_________________________________________________________________\n",
      "resnet50 (Functional)        (None, 2048)              23587712  \n",
      "_________________________________________________________________\n",
      "flatten (Flatten)            (None, 2048)              0         \n",
      "_________________________________________________________________\n",
      "dense (Dense)                (None, 200)               409800    \n",
      "_________________________________________________________________\n",
      "dropout (Dropout)            (None, 200)               0         \n",
      "_________________________________________________________________\n",
      "dense_1 (Dense)              (None, 6)                 1206      \n",
      "=================================================================\n",
      "Total params: 23,998,718\n",
      "Trainable params: 411,006\n",
      "Non-trainable params: 23,587,712\n",
      "_________________________________________________________________\n"
     ]
    }
   ],
   "source": [
    "model.summary()"
   ]
  },
  {
   "cell_type": "code",
   "execution_count": 14,
   "metadata": {
    "execution": {
     "iopub.execute_input": "2025-01-04T19:53:51.336383Z",
     "iopub.status.busy": "2025-01-04T19:53:51.336141Z",
     "iopub.status.idle": "2025-01-04T20:06:55.533309Z",
     "shell.execute_reply": "2025-01-04T20:06:55.532416Z",
     "shell.execute_reply.started": "2025-01-04T19:53:51.336353Z"
    },
    "trusted": true
   },
   "outputs": [
    {
     "name": "stdout",
     "output_type": "stream",
     "text": [
      "Epoch 1/15\n",
      "16/16 [==============================] - 49s 3s/step - loss: 8.8292 - acc: 0.2829 - val_loss: 1.6901 - val_acc: 0.4567\n",
      "Epoch 2/15\n",
      "16/16 [==============================] - 45s 3s/step - loss: 1.8025 - acc: 0.4381 - val_loss: 1.3111 - val_acc: 0.5669\n",
      "Epoch 3/15\n",
      "16/16 [==============================] - 44s 3s/step - loss: 1.3061 - acc: 0.4912 - val_loss: 0.8984 - val_acc: 0.7638\n",
      "Epoch 4/15\n",
      "16/16 [==============================] - 44s 3s/step - loss: 1.1173 - acc: 0.5756 - val_loss: 0.7956 - val_acc: 0.7559\n",
      "Epoch 5/15\n",
      "16/16 [==============================] - 45s 3s/step - loss: 1.0227 - acc: 0.6090 - val_loss: 0.6871 - val_acc: 0.8268\n",
      "Epoch 6/15\n",
      "16/16 [==============================] - 44s 3s/step - loss: 0.8689 - acc: 0.6621 - val_loss: 0.5567 - val_acc: 0.8583\n",
      "Epoch 7/15\n",
      "16/16 [==============================] - 45s 3s/step - loss: 0.8014 - acc: 0.6896 - val_loss: 0.5449 - val_acc: 0.8661\n",
      "Epoch 8/15\n",
      "16/16 [==============================] - 44s 3s/step - loss: 0.7377 - acc: 0.7112 - val_loss: 0.4391 - val_acc: 0.8898\n",
      "Epoch 9/15\n",
      "16/16 [==============================] - 44s 3s/step - loss: 0.6777 - acc: 0.7308 - val_loss: 0.4462 - val_acc: 0.8740\n",
      "Epoch 10/15\n",
      "16/16 [==============================] - 44s 3s/step - loss: 0.6193 - acc: 0.7701 - val_loss: 0.3677 - val_acc: 0.8583\n",
      "Epoch 12/15\n",
      "16/16 [==============================] - 44s 3s/step - loss: 0.5728 - acc: 0.7682 - val_loss: 0.3785 - val_acc: 0.9055\n",
      "Epoch 13/15\n",
      "16/16 [==============================] - 44s 3s/step - loss: 0.5477 - acc: 0.8016 - val_loss: 0.4058 - val_acc: 0.8819\n",
      "Epoch 14/15\n",
      "16/16 [==============================] - 44s 3s/step - loss: 0.5164 - acc: 0.8094 - val_loss: 0.3483 - val_acc: 0.8898\n",
      "Epoch 15/15\n",
      "16/16 [==============================] - 45s 3s/step - loss: 0.4873 - acc: 0.8114 - val_loss: 0.3527 - val_acc: 0.8583\n"
     ]
    },
    {
     "data": {
      "text/plain": [
       "<keras.callbacks.History at 0x7c2fde498c50>"
      ]
     },
     "execution_count": 14,
     "metadata": {},
     "output_type": "execute_result"
    }
   ],
   "source": [
    "model.fit(ds_train, validation_data=ds_test, epochs = 15)"
   ]
  },
  {
   "cell_type": "code",
   "execution_count": 15,
   "metadata": {
    "execution": {
     "iopub.execute_input": "2025-01-04T20:06:55.535083Z",
     "iopub.status.busy": "2025-01-04T20:06:55.534741Z",
     "iopub.status.idle": "2025-01-04T20:07:04.181844Z",
     "shell.execute_reply": "2025-01-04T20:07:04.180860Z",
     "shell.execute_reply.started": "2025-01-04T20:06:55.535040Z"
    },
    "trusted": true
   },
   "outputs": [
    {
     "name": "stdout",
     "output_type": "stream",
     "text": [
      "4/4 [==============================] - 9s 2s/step - loss: 0.3527 - acc: 0.8583\n"
     ]
    },
    {
     "data": {
      "text/plain": [
       "[0.3526935875415802, 0.8582677245140076]"
      ]
     },
     "execution_count": 15,
     "metadata": {},
     "output_type": "execute_result"
    }
   ],
   "source": [
    "model.evaluate(ds_test)"
   ]
  },
  {
   "cell_type": "code",
   "execution_count": 16,
   "metadata": {
    "execution": {
     "iopub.execute_input": "2025-01-04T20:07:04.183381Z",
     "iopub.status.busy": "2025-01-04T20:07:04.183130Z",
     "iopub.status.idle": "2025-01-04T20:07:04.192942Z",
     "shell.execute_reply": "2025-01-04T20:07:04.191956Z",
     "shell.execute_reply.started": "2025-01-04T20:07:04.183352Z"
    },
    "trusted": true
   },
   "outputs": [],
   "source": [
    "model.layers[1].trainable = True"
   ]
  },
  {
   "cell_type": "code",
   "execution_count": 17,
   "metadata": {
    "execution": {
     "iopub.execute_input": "2025-01-04T20:07:04.194659Z",
     "iopub.status.busy": "2025-01-04T20:07:04.194345Z",
     "iopub.status.idle": "2025-01-04T20:07:04.215992Z",
     "shell.execute_reply": "2025-01-04T20:07:04.215061Z",
     "shell.execute_reply.started": "2025-01-04T20:07:04.194618Z"
    },
    "trusted": true
   },
   "outputs": [],
   "source": [
    "model.compile(optimizer=tf.keras.optimizers.Adam(1e-5), loss=\"categorical_crossentropy\", metrics=[\"acc\"])"
   ]
  },
  {
   "cell_type": "code",
   "execution_count": 18,
   "metadata": {
    "execution": {
     "iopub.execute_input": "2025-01-04T20:07:04.217591Z",
     "iopub.status.busy": "2025-01-04T20:07:04.217277Z",
     "iopub.status.idle": "2025-01-04T20:07:04.240301Z",
     "shell.execute_reply": "2025-01-04T20:07:04.239300Z",
     "shell.execute_reply.started": "2025-01-04T20:07:04.217548Z"
    },
    "trusted": true
   },
   "outputs": [
    {
     "name": "stdout",
     "output_type": "stream",
     "text": [
      "Model: \"model\"\n",
      "_________________________________________________________________\n",
      "Layer (type)                 Output Shape              Param #   \n",
      "=================================================================\n",
      "input_2 (InputLayer)         [(None, 224, 224, 3)]     0         \n",
      "_________________________________________________________________\n",
      "resnet50 (Functional)        (None, 2048)              23587712  \n",
      "_________________________________________________________________\n",
      "flatten (Flatten)            (None, 2048)              0         \n",
      "_________________________________________________________________\n",
      "dense (Dense)                (None, 200)               409800    \n",
      "_________________________________________________________________\n",
      "dropout (Dropout)            (None, 200)               0         \n",
      "_________________________________________________________________\n",
      "dense_1 (Dense)              (None, 6)                 1206      \n",
      "=================================================================\n",
      "Total params: 23,998,718\n",
      "Trainable params: 23,945,598\n",
      "Non-trainable params: 53,120\n",
      "_________________________________________________________________\n"
     ]
    }
   ],
   "source": [
    "model.summary()"
   ]
  },
  {
   "cell_type": "code",
   "execution_count": 19,
   "metadata": {
    "execution": {
     "iopub.execute_input": "2025-01-04T20:07:04.241620Z",
     "iopub.status.busy": "2025-01-04T20:07:04.241389Z",
     "iopub.status.idle": "2025-01-04T20:51:50.384628Z",
     "shell.execute_reply": "2025-01-04T20:51:50.383222Z",
     "shell.execute_reply.started": "2025-01-04T20:07:04.241591Z"
    },
    "trusted": true
   },
   "outputs": [
    {
     "name": "stdout",
     "output_type": "stream",
     "text": [
      "Epoch 1/20\n",
      "16/16 [==============================] - 143s 8s/step - loss: 3.9846 - acc: 0.3202 - val_loss: 0.3318 - val_acc: 0.8976\n",
      "Epoch 2/20\n",
      "16/16 [==============================] - 133s 8s/step - loss: 1.7416 - acc: 0.4695 - val_loss: 0.4021 - val_acc: 0.8425\n",
      "Epoch 3/20\n",
      "16/16 [==============================] - 133s 8s/step - loss: 1.2065 - acc: 0.5442 - val_loss: 0.4170 - val_acc: 0.8110\n",
      "Epoch 4/20\n",
      "16/16 [==============================] - 134s 8s/step - loss: 0.9140 - acc: 0.6385 - val_loss: 0.4370 - val_acc: 0.8189\n",
      "Epoch 5/20\n",
      "16/16 [==============================] - 134s 8s/step - loss: 0.8232 - acc: 0.6503 - val_loss: 0.4543 - val_acc: 0.8504\n",
      "Epoch 6/20\n",
      "16/16 [==============================] - 133s 8s/step - loss: 0.6671 - acc: 0.7387 - val_loss: 0.4803 - val_acc: 0.8425\n",
      "Epoch 7/20\n",
      "16/16 [==============================] - 133s 8s/step - loss: 0.5878 - acc: 0.7741 - val_loss: 0.5089 - val_acc: 0.8189\n",
      "Epoch 8/20\n",
      "16/16 [==============================] - 133s 8s/step - loss: 0.5738 - acc: 0.7701 - val_loss: 0.5169 - val_acc: 0.8346\n",
      "Epoch 9/20\n",
      "16/16 [==============================] - 133s 8s/step - loss: 0.5690 - acc: 0.7839 - val_loss: 0.4955 - val_acc: 0.8425\n",
      "Epoch 10/20\n",
      "16/16 [==============================] - 133s 8s/step - loss: 0.4888 - acc: 0.8094 - val_loss: 0.4711 - val_acc: 0.8268\n",
      "Epoch 11/20\n",
      "16/16 [==============================] - 133s 8s/step - loss: 0.4559 - acc: 0.8212 - val_loss: 0.4646 - val_acc: 0.8346\n",
      "Epoch 12/20\n",
      "16/16 [==============================] - 134s 8s/step - loss: 0.4665 - acc: 0.8114 - val_loss: 0.4454 - val_acc: 0.8268\n",
      "Epoch 13/20\n",
      "16/16 [==============================] - 133s 8s/step - loss: 0.4166 - acc: 0.8409 - val_loss: 0.4477 - val_acc: 0.8346\n",
      "Epoch 14/20\n",
      "16/16 [==============================] - 134s 8s/step - loss: 0.3776 - acc: 0.8703 - val_loss: 0.4232 - val_acc: 0.8504\n",
      "Epoch 15/20\n",
      "16/16 [==============================] - 134s 8s/step - loss: 0.3654 - acc: 0.8605 - val_loss: 0.3880 - val_acc: 0.8661\n",
      "Epoch 16/20\n",
      "16/16 [==============================] - 133s 8s/step - loss: 0.3642 - acc: 0.8664 - val_loss: 0.3857 - val_acc: 0.9055\n",
      "Epoch 17/20\n",
      "16/16 [==============================] - 133s 8s/step - loss: 0.3676 - acc: 0.8566 - val_loss: 0.4031 - val_acc: 0.8740\n",
      "Epoch 18/20\n",
      "16/16 [==============================] - 133s 8s/step - loss: 0.2955 - acc: 0.8841 - val_loss: 0.4375 - val_acc: 0.8346\n",
      "Epoch 19/20\n",
      "16/16 [==============================] - 133s 8s/step - loss: 0.2794 - acc: 0.8802 - val_loss: 0.4183 - val_acc: 0.8583\n",
      "Epoch 20/20\n",
      "16/16 [==============================] - 134s 8s/step - loss: 0.2515 - acc: 0.9077 - val_loss: 0.4013 - val_acc: 0.8740\n"
     ]
    },
    {
     "data": {
      "text/plain": [
       "<keras.callbacks.History at 0x7c2fdc187f50>"
      ]
     },
     "execution_count": 19,
     "metadata": {},
     "output_type": "execute_result"
    }
   ],
   "source": [
    "model.fit(ds_train, validation_data=ds_test, epochs = 20)"
   ]
  },
  {
   "cell_type": "code",
   "execution_count": 20,
   "metadata": {
    "execution": {
     "iopub.execute_input": "2025-01-04T20:51:50.386608Z",
     "iopub.status.busy": "2025-01-04T20:51:50.386359Z",
     "iopub.status.idle": "2025-01-04T20:51:58.975475Z",
     "shell.execute_reply": "2025-01-04T20:51:58.974710Z",
     "shell.execute_reply.started": "2025-01-04T20:51:50.386578Z"
    },
    "trusted": true
   },
   "outputs": [
    {
     "name": "stdout",
     "output_type": "stream",
     "text": [
      "4/4 [==============================] - 9s 2s/step - loss: 0.4013 - acc: 0.8740\n"
     ]
    },
    {
     "data": {
      "text/plain": [
       "[0.4012845754623413, 0.874015748500824]"
      ]
     },
     "execution_count": 20,
     "metadata": {},
     "output_type": "execute_result"
    }
   ],
   "source": [
    "model.evaluate(ds_test, batch_size=32)"
   ]
  },
  {
   "cell_type": "code",
   "execution_count": 21,
   "metadata": {
    "execution": {
     "iopub.execute_input": "2025-01-04T20:51:58.976749Z",
     "iopub.status.busy": "2025-01-04T20:51:58.976541Z",
     "iopub.status.idle": "2025-01-04T20:52:31.240684Z",
     "shell.execute_reply": "2025-01-04T20:52:31.239771Z",
     "shell.execute_reply.started": "2025-01-04T20:51:58.976724Z"
    },
    "trusted": true
   },
   "outputs": [
    {
     "name": "stderr",
     "output_type": "stream",
     "text": [
      "/opt/conda/lib/python3.7/site-packages/keras/utils/generic_utils.py:497: CustomMaskWarning: Custom mask layers require a config and must override get_config. When loading, the custom mask layer must be passed to the custom_objects argument.\n",
      "  category=CustomMaskWarning)\n"
     ]
    }
   ],
   "source": [
    "model.save('./model')"
   ]
  }
 ],
 "metadata": {
  "kaggle": {
   "accelerator": "none",
   "dataSources": [
    {
     "datasetId": 464180,
     "sourceId": 872462,
     "sourceType": "datasetVersion"
    },
    {
     "datasetId": 608236,
     "sourceId": 1091061,
     "sourceType": "datasetVersion"
    }
   ],
   "dockerImageVersionId": 30145,
   "isGpuEnabled": false,
   "isInternetEnabled": false,
   "language": "python",
   "sourceType": "notebook"
  },
  "kernelspec": {
   "display_name": "Python 3",
   "language": "python",
   "name": "python3"
  },
  "language_info": {
   "codemirror_mode": {
    "name": "ipython",
    "version": 3
   },
   "file_extension": ".py",
   "mimetype": "text/x-python",
   "name": "python",
   "nbconvert_exporter": "python",
   "pygments_lexer": "ipython3",
   "version": "3.7.10"
  }
 },
 "nbformat": 4,
 "nbformat_minor": 4
}
